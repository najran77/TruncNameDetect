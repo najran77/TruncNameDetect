{
  "nbformat": 4,
  "nbformat_minor": 0,
  "metadata": {
    "colab": {
      "provenance": []
    },
    "kernelspec": {
      "name": "python3",
      "display_name": "Python 3"
    },
    "language_info": {
      "name": "python"
    }
  },
  "cells": [
    {
      "cell_type": "markdown",
      "source": [
        "# Read data"
      ],
      "metadata": {
        "id": "iDqmDnLRMrAI"
      }
    },
    {
      "cell_type": "code",
      "source": [
        "from google.colab import drive"
      ],
      "metadata": {
        "id": "JmVlim76MtIX"
      },
      "execution_count": 1,
      "outputs": []
    },
    {
      "cell_type": "code",
      "source": [
        "drive.mount('/content/drive')"
      ],
      "metadata": {
        "colab": {
          "base_uri": "https://localhost:8080/"
        },
        "id": "NYNd4IHKNGZ3",
        "outputId": "7a193c68-e8de-43ba-ee4d-b117c791f665"
      },
      "execution_count": 2,
      "outputs": [
        {
          "output_type": "stream",
          "name": "stdout",
          "text": [
            "Mounted at /content/drive\n"
          ]
        }
      ]
    },
    {
      "cell_type": "code",
      "source": [
        "import pandas as pd\n",
        "\n",
        "df = pd.read_csv(\"/content/drive/MyDrive/00_ML/ML_Algos/000-STAGE/DATA_OK.csv\", sep =\";\")"
      ],
      "metadata": {
        "id": "0eJbAoVHNRPH"
      },
      "execution_count": 3,
      "outputs": []
    },
    {
      "cell_type": "code",
      "source": [
        "df"
      ],
      "metadata": {
        "colab": {
          "base_uri": "https://localhost:8080/",
          "height": 424
        },
        "id": "kx1_fBlONvBP",
        "outputId": "662fbdc0-0efe-4127-c784-10d69927c6df"
      },
      "execution_count": 4,
      "outputs": [
        {
          "output_type": "execute_result",
          "data": {
            "text/plain": [
              "            N_LST  isTrunc\n",
              "0      abadgarcia        0\n",
              "1      abbondante        0\n",
              "2        abdelgha        1\n",
              "3         abdelsa        1\n",
              "4         abdulqa        1\n",
              "...           ...      ...\n",
              "72053    thurston        0\n",
              "72054    draughty        0\n",
              "72055   henderson        0\n",
              "72056    espinoza        0\n",
              "72057   wallowing        0\n",
              "\n",
              "[72058 rows x 2 columns]"
            ],
            "text/html": [
              "\n",
              "  <div id=\"df-ce0e6141-0a38-41f8-8646-650707ab1167\" class=\"colab-df-container\">\n",
              "    <div>\n",
              "<style scoped>\n",
              "    .dataframe tbody tr th:only-of-type {\n",
              "        vertical-align: middle;\n",
              "    }\n",
              "\n",
              "    .dataframe tbody tr th {\n",
              "        vertical-align: top;\n",
              "    }\n",
              "\n",
              "    .dataframe thead th {\n",
              "        text-align: right;\n",
              "    }\n",
              "</style>\n",
              "<table border=\"1\" class=\"dataframe\">\n",
              "  <thead>\n",
              "    <tr style=\"text-align: right;\">\n",
              "      <th></th>\n",
              "      <th>N_LST</th>\n",
              "      <th>isTrunc</th>\n",
              "    </tr>\n",
              "  </thead>\n",
              "  <tbody>\n",
              "    <tr>\n",
              "      <th>0</th>\n",
              "      <td>abadgarcia</td>\n",
              "      <td>0</td>\n",
              "    </tr>\n",
              "    <tr>\n",
              "      <th>1</th>\n",
              "      <td>abbondante</td>\n",
              "      <td>0</td>\n",
              "    </tr>\n",
              "    <tr>\n",
              "      <th>2</th>\n",
              "      <td>abdelgha</td>\n",
              "      <td>1</td>\n",
              "    </tr>\n",
              "    <tr>\n",
              "      <th>3</th>\n",
              "      <td>abdelsa</td>\n",
              "      <td>1</td>\n",
              "    </tr>\n",
              "    <tr>\n",
              "      <th>4</th>\n",
              "      <td>abdulqa</td>\n",
              "      <td>1</td>\n",
              "    </tr>\n",
              "    <tr>\n",
              "      <th>...</th>\n",
              "      <td>...</td>\n",
              "      <td>...</td>\n",
              "    </tr>\n",
              "    <tr>\n",
              "      <th>72053</th>\n",
              "      <td>thurston</td>\n",
              "      <td>0</td>\n",
              "    </tr>\n",
              "    <tr>\n",
              "      <th>72054</th>\n",
              "      <td>draughty</td>\n",
              "      <td>0</td>\n",
              "    </tr>\n",
              "    <tr>\n",
              "      <th>72055</th>\n",
              "      <td>henderson</td>\n",
              "      <td>0</td>\n",
              "    </tr>\n",
              "    <tr>\n",
              "      <th>72056</th>\n",
              "      <td>espinoza</td>\n",
              "      <td>0</td>\n",
              "    </tr>\n",
              "    <tr>\n",
              "      <th>72057</th>\n",
              "      <td>wallowing</td>\n",
              "      <td>0</td>\n",
              "    </tr>\n",
              "  </tbody>\n",
              "</table>\n",
              "<p>72058 rows × 2 columns</p>\n",
              "</div>\n",
              "    <div class=\"colab-df-buttons\">\n",
              "\n",
              "  <div class=\"colab-df-container\">\n",
              "    <button class=\"colab-df-convert\" onclick=\"convertToInteractive('df-ce0e6141-0a38-41f8-8646-650707ab1167')\"\n",
              "            title=\"Convert this dataframe to an interactive table.\"\n",
              "            style=\"display:none;\">\n",
              "\n",
              "  <svg xmlns=\"http://www.w3.org/2000/svg\" height=\"24px\" viewBox=\"0 -960 960 960\">\n",
              "    <path d=\"M120-120v-720h720v720H120Zm60-500h600v-160H180v160Zm220 220h160v-160H400v160Zm0 220h160v-160H400v160ZM180-400h160v-160H180v160Zm440 0h160v-160H620v160ZM180-180h160v-160H180v160Zm440 0h160v-160H620v160Z\"/>\n",
              "  </svg>\n",
              "    </button>\n",
              "\n",
              "  <style>\n",
              "    .colab-df-container {\n",
              "      display:flex;\n",
              "      gap: 12px;\n",
              "    }\n",
              "\n",
              "    .colab-df-convert {\n",
              "      background-color: #E8F0FE;\n",
              "      border: none;\n",
              "      border-radius: 50%;\n",
              "      cursor: pointer;\n",
              "      display: none;\n",
              "      fill: #1967D2;\n",
              "      height: 32px;\n",
              "      padding: 0 0 0 0;\n",
              "      width: 32px;\n",
              "    }\n",
              "\n",
              "    .colab-df-convert:hover {\n",
              "      background-color: #E2EBFA;\n",
              "      box-shadow: 0px 1px 2px rgba(60, 64, 67, 0.3), 0px 1px 3px 1px rgba(60, 64, 67, 0.15);\n",
              "      fill: #174EA6;\n",
              "    }\n",
              "\n",
              "    .colab-df-buttons div {\n",
              "      margin-bottom: 4px;\n",
              "    }\n",
              "\n",
              "    [theme=dark] .colab-df-convert {\n",
              "      background-color: #3B4455;\n",
              "      fill: #D2E3FC;\n",
              "    }\n",
              "\n",
              "    [theme=dark] .colab-df-convert:hover {\n",
              "      background-color: #434B5C;\n",
              "      box-shadow: 0px 1px 3px 1px rgba(0, 0, 0, 0.15);\n",
              "      filter: drop-shadow(0px 1px 2px rgba(0, 0, 0, 0.3));\n",
              "      fill: #FFFFFF;\n",
              "    }\n",
              "  </style>\n",
              "\n",
              "    <script>\n",
              "      const buttonEl =\n",
              "        document.querySelector('#df-ce0e6141-0a38-41f8-8646-650707ab1167 button.colab-df-convert');\n",
              "      buttonEl.style.display =\n",
              "        google.colab.kernel.accessAllowed ? 'block' : 'none';\n",
              "\n",
              "      async function convertToInteractive(key) {\n",
              "        const element = document.querySelector('#df-ce0e6141-0a38-41f8-8646-650707ab1167');\n",
              "        const dataTable =\n",
              "          await google.colab.kernel.invokeFunction('convertToInteractive',\n",
              "                                                    [key], {});\n",
              "        if (!dataTable) return;\n",
              "\n",
              "        const docLinkHtml = 'Like what you see? Visit the ' +\n",
              "          '<a target=\"_blank\" href=https://colab.research.google.com/notebooks/data_table.ipynb>data table notebook</a>'\n",
              "          + ' to learn more about interactive tables.';\n",
              "        element.innerHTML = '';\n",
              "        dataTable['output_type'] = 'display_data';\n",
              "        await google.colab.output.renderOutput(dataTable, element);\n",
              "        const docLink = document.createElement('div');\n",
              "        docLink.innerHTML = docLinkHtml;\n",
              "        element.appendChild(docLink);\n",
              "      }\n",
              "    </script>\n",
              "  </div>\n",
              "\n",
              "\n",
              "<div id=\"df-c5b172c0-24d6-493e-8cb6-e639be9369f4\">\n",
              "  <button class=\"colab-df-quickchart\" onclick=\"quickchart('df-c5b172c0-24d6-493e-8cb6-e639be9369f4')\"\n",
              "            title=\"Suggest charts\"\n",
              "            style=\"display:none;\">\n",
              "\n",
              "<svg xmlns=\"http://www.w3.org/2000/svg\" height=\"24px\"viewBox=\"0 0 24 24\"\n",
              "     width=\"24px\">\n",
              "    <g>\n",
              "        <path d=\"M19 3H5c-1.1 0-2 .9-2 2v14c0 1.1.9 2 2 2h14c1.1 0 2-.9 2-2V5c0-1.1-.9-2-2-2zM9 17H7v-7h2v7zm4 0h-2V7h2v10zm4 0h-2v-4h2v4z\"/>\n",
              "    </g>\n",
              "</svg>\n",
              "  </button>\n",
              "\n",
              "<style>\n",
              "  .colab-df-quickchart {\n",
              "      --bg-color: #E8F0FE;\n",
              "      --fill-color: #1967D2;\n",
              "      --hover-bg-color: #E2EBFA;\n",
              "      --hover-fill-color: #174EA6;\n",
              "      --disabled-fill-color: #AAA;\n",
              "      --disabled-bg-color: #DDD;\n",
              "  }\n",
              "\n",
              "  [theme=dark] .colab-df-quickchart {\n",
              "      --bg-color: #3B4455;\n",
              "      --fill-color: #D2E3FC;\n",
              "      --hover-bg-color: #434B5C;\n",
              "      --hover-fill-color: #FFFFFF;\n",
              "      --disabled-bg-color: #3B4455;\n",
              "      --disabled-fill-color: #666;\n",
              "  }\n",
              "\n",
              "  .colab-df-quickchart {\n",
              "    background-color: var(--bg-color);\n",
              "    border: none;\n",
              "    border-radius: 50%;\n",
              "    cursor: pointer;\n",
              "    display: none;\n",
              "    fill: var(--fill-color);\n",
              "    height: 32px;\n",
              "    padding: 0;\n",
              "    width: 32px;\n",
              "  }\n",
              "\n",
              "  .colab-df-quickchart:hover {\n",
              "    background-color: var(--hover-bg-color);\n",
              "    box-shadow: 0 1px 2px rgba(60, 64, 67, 0.3), 0 1px 3px 1px rgba(60, 64, 67, 0.15);\n",
              "    fill: var(--button-hover-fill-color);\n",
              "  }\n",
              "\n",
              "  .colab-df-quickchart-complete:disabled,\n",
              "  .colab-df-quickchart-complete:disabled:hover {\n",
              "    background-color: var(--disabled-bg-color);\n",
              "    fill: var(--disabled-fill-color);\n",
              "    box-shadow: none;\n",
              "  }\n",
              "\n",
              "  .colab-df-spinner {\n",
              "    border: 2px solid var(--fill-color);\n",
              "    border-color: transparent;\n",
              "    border-bottom-color: var(--fill-color);\n",
              "    animation:\n",
              "      spin 1s steps(1) infinite;\n",
              "  }\n",
              "\n",
              "  @keyframes spin {\n",
              "    0% {\n",
              "      border-color: transparent;\n",
              "      border-bottom-color: var(--fill-color);\n",
              "      border-left-color: var(--fill-color);\n",
              "    }\n",
              "    20% {\n",
              "      border-color: transparent;\n",
              "      border-left-color: var(--fill-color);\n",
              "      border-top-color: var(--fill-color);\n",
              "    }\n",
              "    30% {\n",
              "      border-color: transparent;\n",
              "      border-left-color: var(--fill-color);\n",
              "      border-top-color: var(--fill-color);\n",
              "      border-right-color: var(--fill-color);\n",
              "    }\n",
              "    40% {\n",
              "      border-color: transparent;\n",
              "      border-right-color: var(--fill-color);\n",
              "      border-top-color: var(--fill-color);\n",
              "    }\n",
              "    60% {\n",
              "      border-color: transparent;\n",
              "      border-right-color: var(--fill-color);\n",
              "    }\n",
              "    80% {\n",
              "      border-color: transparent;\n",
              "      border-right-color: var(--fill-color);\n",
              "      border-bottom-color: var(--fill-color);\n",
              "    }\n",
              "    90% {\n",
              "      border-color: transparent;\n",
              "      border-bottom-color: var(--fill-color);\n",
              "    }\n",
              "  }\n",
              "</style>\n",
              "\n",
              "  <script>\n",
              "    async function quickchart(key) {\n",
              "      const quickchartButtonEl =\n",
              "        document.querySelector('#' + key + ' button');\n",
              "      quickchartButtonEl.disabled = true;  // To prevent multiple clicks.\n",
              "      quickchartButtonEl.classList.add('colab-df-spinner');\n",
              "      try {\n",
              "        const charts = await google.colab.kernel.invokeFunction(\n",
              "            'suggestCharts', [key], {});\n",
              "      } catch (error) {\n",
              "        console.error('Error during call to suggestCharts:', error);\n",
              "      }\n",
              "      quickchartButtonEl.classList.remove('colab-df-spinner');\n",
              "      quickchartButtonEl.classList.add('colab-df-quickchart-complete');\n",
              "    }\n",
              "    (() => {\n",
              "      let quickchartButtonEl =\n",
              "        document.querySelector('#df-c5b172c0-24d6-493e-8cb6-e639be9369f4 button');\n",
              "      quickchartButtonEl.style.display =\n",
              "        google.colab.kernel.accessAllowed ? 'block' : 'none';\n",
              "    })();\n",
              "  </script>\n",
              "</div>\n",
              "\n",
              "  <div id=\"id_da20a32a-3a92-45b9-86ca-adacc0f48145\">\n",
              "    <style>\n",
              "      .colab-df-generate {\n",
              "        background-color: #E8F0FE;\n",
              "        border: none;\n",
              "        border-radius: 50%;\n",
              "        cursor: pointer;\n",
              "        display: none;\n",
              "        fill: #1967D2;\n",
              "        height: 32px;\n",
              "        padding: 0 0 0 0;\n",
              "        width: 32px;\n",
              "      }\n",
              "\n",
              "      .colab-df-generate:hover {\n",
              "        background-color: #E2EBFA;\n",
              "        box-shadow: 0px 1px 2px rgba(60, 64, 67, 0.3), 0px 1px 3px 1px rgba(60, 64, 67, 0.15);\n",
              "        fill: #174EA6;\n",
              "      }\n",
              "\n",
              "      [theme=dark] .colab-df-generate {\n",
              "        background-color: #3B4455;\n",
              "        fill: #D2E3FC;\n",
              "      }\n",
              "\n",
              "      [theme=dark] .colab-df-generate:hover {\n",
              "        background-color: #434B5C;\n",
              "        box-shadow: 0px 1px 3px 1px rgba(0, 0, 0, 0.15);\n",
              "        filter: drop-shadow(0px 1px 2px rgba(0, 0, 0, 0.3));\n",
              "        fill: #FFFFFF;\n",
              "      }\n",
              "    </style>\n",
              "    <button class=\"colab-df-generate\" onclick=\"generateWithVariable('df')\"\n",
              "            title=\"Generate code using this dataframe.\"\n",
              "            style=\"display:none;\">\n",
              "\n",
              "  <svg xmlns=\"http://www.w3.org/2000/svg\" height=\"24px\"viewBox=\"0 0 24 24\"\n",
              "       width=\"24px\">\n",
              "    <path d=\"M7,19H8.4L18.45,9,17,7.55,7,17.6ZM5,21V16.75L18.45,3.32a2,2,0,0,1,2.83,0l1.4,1.43a1.91,1.91,0,0,1,.58,1.4,1.91,1.91,0,0,1-.58,1.4L9.25,21ZM18.45,9,17,7.55Zm-12,3A5.31,5.31,0,0,0,4.9,8.1,5.31,5.31,0,0,0,1,6.5,5.31,5.31,0,0,0,4.9,4.9,5.31,5.31,0,0,0,6.5,1,5.31,5.31,0,0,0,8.1,4.9,5.31,5.31,0,0,0,12,6.5,5.46,5.46,0,0,0,6.5,12Z\"/>\n",
              "  </svg>\n",
              "    </button>\n",
              "    <script>\n",
              "      (() => {\n",
              "      const buttonEl =\n",
              "        document.querySelector('#id_da20a32a-3a92-45b9-86ca-adacc0f48145 button.colab-df-generate');\n",
              "      buttonEl.style.display =\n",
              "        google.colab.kernel.accessAllowed ? 'block' : 'none';\n",
              "\n",
              "      buttonEl.onclick = () => {\n",
              "        google.colab.notebook.generateWithVariable('df');\n",
              "      }\n",
              "      })();\n",
              "    </script>\n",
              "  </div>\n",
              "\n",
              "    </div>\n",
              "  </div>\n"
            ],
            "application/vnd.google.colaboratory.intrinsic+json": {
              "type": "dataframe",
              "variable_name": "df",
              "summary": "{\n  \"name\": \"df\",\n  \"rows\": 72058,\n  \"fields\": [\n    {\n      \"column\": \"N_LST\",\n      \"properties\": {\n        \"dtype\": \"string\",\n        \"num_unique_values\": 69813,\n        \"samples\": [\n          \"jalanivi\",\n          \"morkov\",\n          \"strongberg\"\n        ],\n        \"semantic_type\": \"\",\n        \"description\": \"\"\n      }\n    },\n    {\n      \"column\": \"isTrunc\",\n      \"properties\": {\n        \"dtype\": \"number\",\n        \"std\": 0,\n        \"min\": 0,\n        \"max\": 1,\n        \"num_unique_values\": 2,\n        \"samples\": [\n          1,\n          0\n        ],\n        \"semantic_type\": \"\",\n        \"description\": \"\"\n      }\n    }\n  ]\n}"
            }
          },
          "metadata": {},
          "execution_count": 4
        }
      ]
    },
    {
      "cell_type": "markdown",
      "source": [
        "# Data preprocesing"
      ],
      "metadata": {
        "id": "WAmM9ApgMtgn"
      }
    },
    {
      "cell_type": "code",
      "source": [
        "#separate names by space\n",
        "def separate_string(name):\n",
        "\n",
        "    name =[\" \".join(letter.lower()) for letter in name if letter!=\" \"]\n",
        "    return(' '.join(name))\n"
      ],
      "metadata": {
        "id": "NbieLFm6MvVm"
      },
      "execution_count": 5,
      "outputs": []
    },
    {
      "cell_type": "code",
      "source": [
        "from sklearn.feature_extraction.text import CountVectorizer, TfidfVectorizer, HashingVectorizer"
      ],
      "metadata": {
        "id": "F0WcdAAlRhVo"
      },
      "execution_count": 6,
      "outputs": []
    },
    {
      "cell_type": "code",
      "source": [
        "words = df['N_LST']\n",
        "words"
      ],
      "metadata": {
        "colab": {
          "base_uri": "https://localhost:8080/",
          "height": 458
        },
        "id": "gv3iuVH5nYIZ",
        "outputId": "b8a7c5d8-f10f-4695-967a-827b9450307b"
      },
      "execution_count": 7,
      "outputs": [
        {
          "output_type": "execute_result",
          "data": {
            "text/plain": [
              "0        abadgarcia\n",
              "1        abbondante\n",
              "2          abdelgha\n",
              "3           abdelsa\n",
              "4           abdulqa\n",
              "            ...    \n",
              "72053      thurston\n",
              "72054      draughty\n",
              "72055     henderson\n",
              "72056      espinoza\n",
              "72057     wallowing\n",
              "Name: N_LST, Length: 72058, dtype: object"
            ],
            "text/html": [
              "<div>\n",
              "<style scoped>\n",
              "    .dataframe tbody tr th:only-of-type {\n",
              "        vertical-align: middle;\n",
              "    }\n",
              "\n",
              "    .dataframe tbody tr th {\n",
              "        vertical-align: top;\n",
              "    }\n",
              "\n",
              "    .dataframe thead th {\n",
              "        text-align: right;\n",
              "    }\n",
              "</style>\n",
              "<table border=\"1\" class=\"dataframe\">\n",
              "  <thead>\n",
              "    <tr style=\"text-align: right;\">\n",
              "      <th></th>\n",
              "      <th>N_LST</th>\n",
              "    </tr>\n",
              "  </thead>\n",
              "  <tbody>\n",
              "    <tr>\n",
              "      <th>0</th>\n",
              "      <td>abadgarcia</td>\n",
              "    </tr>\n",
              "    <tr>\n",
              "      <th>1</th>\n",
              "      <td>abbondante</td>\n",
              "    </tr>\n",
              "    <tr>\n",
              "      <th>2</th>\n",
              "      <td>abdelgha</td>\n",
              "    </tr>\n",
              "    <tr>\n",
              "      <th>3</th>\n",
              "      <td>abdelsa</td>\n",
              "    </tr>\n",
              "    <tr>\n",
              "      <th>4</th>\n",
              "      <td>abdulqa</td>\n",
              "    </tr>\n",
              "    <tr>\n",
              "      <th>...</th>\n",
              "      <td>...</td>\n",
              "    </tr>\n",
              "    <tr>\n",
              "      <th>72053</th>\n",
              "      <td>thurston</td>\n",
              "    </tr>\n",
              "    <tr>\n",
              "      <th>72054</th>\n",
              "      <td>draughty</td>\n",
              "    </tr>\n",
              "    <tr>\n",
              "      <th>72055</th>\n",
              "      <td>henderson</td>\n",
              "    </tr>\n",
              "    <tr>\n",
              "      <th>72056</th>\n",
              "      <td>espinoza</td>\n",
              "    </tr>\n",
              "    <tr>\n",
              "      <th>72057</th>\n",
              "      <td>wallowing</td>\n",
              "    </tr>\n",
              "  </tbody>\n",
              "</table>\n",
              "<p>72058 rows × 1 columns</p>\n",
              "</div><br><label><b>dtype:</b> object</label>"
            ]
          },
          "metadata": {},
          "execution_count": 7
        }
      ]
    },
    {
      "cell_type": "code",
      "source": [
        "ngram_range= (2,3)\n",
        "cv = CountVectorizer(analyzer='char', ngram_range=ngram_range, lowercase=False)\n",
        "X = cv.fit_transform(words)"
      ],
      "metadata": {
        "id": "WhubicKKhn-h"
      },
      "execution_count": 8,
      "outputs": []
    },
    {
      "cell_type": "code",
      "source": [
        "X.toarray()[:5]"
      ],
      "metadata": {
        "colab": {
          "base_uri": "https://localhost:8080/"
        },
        "id": "MF9bPIC6U3ms",
        "outputId": "f41e936b-4580-4b6a-df7d-ab69e401e0cc"
      },
      "execution_count": 9,
      "outputs": [
        {
          "output_type": "execute_result",
          "data": {
            "text/plain": [
              "array([[0, 0, 0, ..., 0, 0, 0],\n",
              "       [0, 0, 0, ..., 0, 0, 0],\n",
              "       [0, 0, 0, ..., 0, 0, 0],\n",
              "       [0, 0, 0, ..., 0, 0, 0],\n",
              "       [0, 0, 0, ..., 0, 0, 0]])"
            ]
          },
          "metadata": {},
          "execution_count": 9
        }
      ]
    },
    {
      "cell_type": "code",
      "source": [
        "df_X = pd.DataFrame(X.toarray(), columns=cv.get_feature_names_out(), index=words)"
      ],
      "metadata": {
        "id": "qTvTr5UNiORx"
      },
      "execution_count": 10,
      "outputs": []
    },
    {
      "cell_type": "code",
      "source": [
        "#X=X.toarray()"
      ],
      "metadata": {
        "id": "uMksHbrYmvhh"
      },
      "execution_count": 11,
      "outputs": []
    },
    {
      "cell_type": "code",
      "source": [
        "y=df[\"isTrunc\"]"
      ],
      "metadata": {
        "id": "j5CcDEd7ph1C"
      },
      "execution_count": 12,
      "outputs": []
    },
    {
      "cell_type": "markdown",
      "source": [
        "# Model Training"
      ],
      "metadata": {
        "id": "UlV-3OeOMyWP"
      }
    },
    {
      "cell_type": "code",
      "source": [
        "from sklearn.model_selection import train_test_split,GridSearchCV\n",
        "X_train, X_test, y_train , y_test = train_test_split(X,y, test_size=0.2, random_state=12)"
      ],
      "metadata": {
        "id": "JN_BCWOuQx70"
      },
      "execution_count": 13,
      "outputs": []
    },
    {
      "cell_type": "code",
      "source": [
        "print(X_train.shape, y_train.shape, X_test.shape, y_test.shape)"
      ],
      "metadata": {
        "colab": {
          "base_uri": "https://localhost:8080/"
        },
        "id": "aAPui2EERYOb",
        "outputId": "293b8b55-83e9-4ff6-e8a7-7c1bda24422b"
      },
      "execution_count": 14,
      "outputs": [
        {
          "output_type": "stream",
          "name": "stdout",
          "text": [
            "(57646, 9124) (57646,) (14412, 9124) (14412,)\n"
          ]
        }
      ]
    },
    {
      "cell_type": "markdown",
      "source": [
        "### 1- Naive Bayes"
      ],
      "metadata": {
        "id": "AoeLn2w6Tl1F"
      }
    },
    {
      "cell_type": "code",
      "source": [
        "from sklearn.naive_bayes import MultinomialNB\n",
        "nb_classifier = MultinomialNB()"
      ],
      "metadata": {
        "id": "Qtpm0UGRTMW9"
      },
      "execution_count": 15,
      "outputs": []
    },
    {
      "cell_type": "code",
      "source": [
        "from sklearn import metrics"
      ],
      "metadata": {
        "id": "rQuKAIkLTY79"
      },
      "execution_count": 16,
      "outputs": []
    },
    {
      "cell_type": "code",
      "source": [
        "nb_classifier.fit(X_train, y_train)\n",
        "y_pred = nb_classifier.predict(X_test)\n",
        "score = metrics.accuracy_score(y_test, y_pred)\n",
        "print(\"accuracy: %0.3f\" % score)\n",
        "cm = metrics.confusion_matrix(y_test, y_pred)\n",
        "print(cm)"
      ],
      "metadata": {
        "colab": {
          "base_uri": "https://localhost:8080/"
        },
        "id": "UuoAonfFTaFE",
        "outputId": "d61ee5d7-c7c8-467b-e407-7abbd0bd88f6"
      },
      "execution_count": 17,
      "outputs": [
        {
          "output_type": "stream",
          "name": "stdout",
          "text": [
            "accuracy: 0.622\n",
            "[[5771 2649]\n",
            " [2795 3197]]\n"
          ]
        }
      ]
    },
    {
      "cell_type": "markdown",
      "source": [
        "#### Naive Bayes - Multinomial classifier with hyperparameter\n",
        "\n",
        "same as MultinomialNB but with alpha, etc..."
      ],
      "metadata": {
        "id": "4OJOHiF1GsWo"
      }
    },
    {
      "cell_type": "code",
      "source": [
        "import numpy as np\n",
        "nb_classifier_h = MultinomialNB(alpha = 0.1)\n",
        "previous_score = 0\n",
        "for alpha in np.arange(0,1,0.05):\n",
        "  sub_classifier = MultinomialNB(alpha=alpha)\n",
        "  sub_classifier.fit(X_train, y_train)\n",
        "  y_pred = sub_classifier.predict(X_test)\n",
        "  score = metrics.accuracy_score(y_test, y_pred)\n",
        "  if score > previous_score:\n",
        "    nb_classifier_h = sub_classifier\n",
        "    previous_score=score\n",
        "  print('Alpha:{}, Score:{}'.format(alpha,score))"
      ],
      "metadata": {
        "id": "EMZzKY2TBU9d",
        "colab": {
          "base_uri": "https://localhost:8080/"
        },
        "outputId": "8d57fc4c-efd5-42d7-b829-7c4c900a29b8"
      },
      "execution_count": 18,
      "outputs": [
        {
          "output_type": "stream",
          "name": "stdout",
          "text": [
            "Alpha:0.0, Score:0.6222592284207604\n",
            "Alpha:0.05, Score:0.6234388009991674\n",
            "Alpha:0.1, Score:0.6233000277546489\n",
            "Alpha:0.15000000000000002, Score:0.623022481265612\n"
          ]
        },
        {
          "output_type": "stream",
          "name": "stderr",
          "text": [
            "/usr/local/lib/python3.10/dist-packages/sklearn/naive_bayes.py:624: FutureWarning: The default value for `force_alpha` will change to `True` in 1.4. To suppress this warning, manually set the value of `force_alpha`.\n",
            "  warnings.warn(\n",
            "/usr/local/lib/python3.10/dist-packages/sklearn/naive_bayes.py:633: UserWarning: alpha too small will result in numeric errors, setting alpha = 1.0e-10. Use `force_alpha=True` to keep alpha unchanged.\n",
            "  warnings.warn(\n"
          ]
        },
        {
          "output_type": "stream",
          "name": "stdout",
          "text": [
            "Alpha:0.2, Score:0.6235081876214266\n",
            "Alpha:0.25, Score:0.6246877601998335\n",
            "Alpha:0.30000000000000004, Score:0.6239938939772411\n",
            "Alpha:0.35000000000000003, Score:0.6238551207327228\n",
            "Alpha:0.4, Score:0.623924507354982\n",
            "Alpha:0.45, Score:0.6237857341104635\n",
            "Alpha:0.5, Score:0.6231612545101305\n",
            "Alpha:0.55, Score:0.6232306411323897\n",
            "Alpha:0.6000000000000001, Score:0.6228143213988343\n",
            "Alpha:0.65, Score:0.6226061615320566\n",
            "Alpha:0.7000000000000001, Score:0.6225367749097974\n",
            "Alpha:0.75, Score:0.6220510685539828\n",
            "Alpha:0.8, Score:0.6219122953094643\n",
            "Alpha:0.8500000000000001, Score:0.6224673882875381\n",
            "Alpha:0.9, Score:0.6224673882875381\n",
            "Alpha:0.9500000000000001, Score:0.623022481265612\n"
          ]
        }
      ]
    },
    {
      "cell_type": "markdown",
      "source": [
        "### 2- Passive agressive"
      ],
      "metadata": {
        "id": "_rPpZKWbUB3r"
      }
    },
    {
      "cell_type": "code",
      "source": [
        "from sklearn.linear_model import PassiveAggressiveClassifier\n",
        "pa_classifier = PassiveAggressiveClassifier()"
      ],
      "metadata": {
        "id": "zBZAC21OUHhF"
      },
      "execution_count": 19,
      "outputs": []
    },
    {
      "cell_type": "code",
      "source": [
        "pa_classifier.fit(X_train, y_train)\n",
        "y_pred = pa_classifier.predict(X_test)\n",
        "score = metrics.accuracy_score(y_test, y_pred)\n",
        "print(\"Passive Aggressive algo accuracy: %0.3f\" % score)\n",
        "cm = metrics.confusion_matrix(y_test, y_pred)\n",
        "print(cm)"
      ],
      "metadata": {
        "colab": {
          "base_uri": "https://localhost:8080/"
        },
        "id": "Artsz-JnUKR0",
        "outputId": "a41fa72e-5f8b-4643-b038-58ce6210da71"
      },
      "execution_count": 20,
      "outputs": [
        {
          "output_type": "stream",
          "name": "stdout",
          "text": [
            "Passive Aggressive algo accuracy: 0.927\n",
            "[[7971  449]\n",
            " [ 603 5389]]\n"
          ]
        }
      ]
    },
    {
      "cell_type": "markdown",
      "source": [
        "#### Passive agressive classifier with hyperparameter\n",
        "\n",
        "same as PassiveAggressiveClassifier but with C (the bigger is C, the more agressive the model is)"
      ],
      "metadata": {
        "id": "LOL4M-1bWrTs"
      }
    },
    {
      "cell_type": "code",
      "source": [
        "import numpy as np\n",
        "pac = PassiveAggressiveClassifier(random_state=12)\n",
        "\n",
        "# Définition de la grille de paramètres\n",
        "param_grid = {'C': [0.001, 0.01, 0.1, 1.0, 10.0, 100.0]}\n",
        "\n",
        "# Initialisation de GridSearchCV\n",
        "grid_search = GridSearchCV(pac, param_grid, cv=5, scoring='accuracy')\n",
        "\n",
        "# Entraînement du modèle avec recherche par grille\n",
        "grid_search.fit(X_train, y_train)\n",
        "\n",
        "# Affichage des meilleurs paramètres\n",
        "print(f'Best parameters: {grid_search.best_params_}')\n",
        "\n",
        "# Prédiction sur l'ensemble de test avec les meilleurs paramètres\n",
        "pa_classifier_h = grid_search.best_estimator_\n",
        "y_pred = pa_classifier_h.predict(X_test)\n",
        "\n",
        "# Calcul de l'exactitude\n",
        "accuracy = metrics.accuracy_score(y_test, y_pred)\n",
        "print(f'Accuracy: {accuracy:.2f}')"
      ],
      "metadata": {
        "colab": {
          "base_uri": "https://localhost:8080/"
        },
        "outputId": "351c2802-0dc8-4422-bbb4-ac34275f2d1f",
        "id": "MZBZ2dPHWrTx"
      },
      "execution_count": 21,
      "outputs": [
        {
          "output_type": "stream",
          "name": "stdout",
          "text": [
            "Best parameters: {'C': 0.01}\n",
            "Accuracy: 0.94\n"
          ]
        }
      ]
    },
    {
      "cell_type": "markdown",
      "source": [
        "### 3- Random Forest"
      ],
      "metadata": {
        "id": "8RbTp9Y4a5hV"
      }
    },
    {
      "cell_type": "code",
      "source": [
        "from sklearn.ensemble import RandomForestClassifier"
      ],
      "metadata": {
        "id": "RmHCBD7ZbEwk"
      },
      "execution_count": 22,
      "outputs": []
    },
    {
      "cell_type": "code",
      "source": [
        "\n",
        "rf_classifier = RandomForestClassifier(n_estimators=100,random_state=12)\n",
        "rf_classifier.fit(X_train, y_train)\n",
        "y_pred = rf_classifier.predict(X_test)\n",
        "score = metrics.accuracy_score(y_test, y_pred)\n",
        "print(\"Random forest accuracy: %0.3f\" % score)\n",
        "cm = metrics.confusion_matrix(y_test, y_pred)\n",
        "print(cm)"
      ],
      "metadata": {
        "colab": {
          "base_uri": "https://localhost:8080/"
        },
        "id": "lEps9IeBa9FT",
        "outputId": "c48c39d0-c768-4c4f-9a7d-0d946678bbc5"
      },
      "execution_count": 23,
      "outputs": [
        {
          "output_type": "stream",
          "name": "stdout",
          "text": [
            "Random forest accuracy: 0.789\n",
            "[[5890 2530]\n",
            " [ 510 5482]]\n"
          ]
        }
      ]
    },
    {
      "cell_type": "markdown",
      "source": [
        "#### Random Forest classifier with hyperparameter\n",
        "\n",
        "same as RandomForestClassifier but with C (the bigger is C, the more agressive the model is)"
      ],
      "metadata": {
        "id": "e1BbYnMOdco9"
      }
    },
    {
      "cell_type": "code",
      "source": [
        "# Initialisation du classifieur Random Forest\n",
        "# rf_classifier_h = RandomForestClassifier(random_state=12)\n",
        "\n",
        "# # Définition de la grille de paramètres\n",
        "# param_grid = {\n",
        "#     'n_estimators': [50, 100, 200],\n",
        "#     'max_depth': [None, 10, 20, 30],\n",
        "#     'min_samples_split': [2, 5, 10],\n",
        "#     'min_samples_leaf': [1, 2, 4],\n",
        "#     'bootstrap': [True, False]\n",
        "# }\n",
        "\n",
        "# # Initialisation de GridSearchCV\n",
        "# grid_search = GridSearchCV(estimator=rf_classifier_h, param_grid=param_grid, cv=5, scoring='accuracy', n_jobs=-1, verbose=2)\n",
        "\n",
        "# # Entraînement du modèle avec recherche par grille\n",
        "# grid_search.fit(X_train, y_train)\n",
        "\n",
        "# # Affichage des meilleurs paramètres\n",
        "# print(f'Best parameters: {grid_search.best_params_}')\n",
        "\n",
        "# # Utilisation des meilleurs paramètres pour prédire sur l'ensemble de test\n",
        "# rf_classifier_h = grid_search.best_estimator_\n",
        "# y_pred = rf_classifier_h.predict(X_test)\n",
        "\n",
        "# # Évaluation de la performance\n",
        "# accuracy = metrics.accuracy_score(y_test, y_pred)\n",
        "# print(f'Accuracy: {accuracy:.2f}')"
      ],
      "metadata": {
        "id": "shf0fIdKdb1c"
      },
      "execution_count": 24,
      "outputs": []
    },
    {
      "cell_type": "code",
      "source": [
        "print(2)"
      ],
      "metadata": {
        "id": "JgIO-IeobMrb",
        "colab": {
          "base_uri": "https://localhost:8080/"
        },
        "outputId": "118d32e6-45f4-4152-8092-090b377caa5d"
      },
      "execution_count": 25,
      "outputs": [
        {
          "output_type": "stream",
          "name": "stdout",
          "text": [
            "2\n"
          ]
        }
      ]
    },
    {
      "cell_type": "code",
      "source": [],
      "metadata": {
        "id": "LvuVaVrRK1sq"
      },
      "execution_count": 25,
      "outputs": []
    }
  ]
}